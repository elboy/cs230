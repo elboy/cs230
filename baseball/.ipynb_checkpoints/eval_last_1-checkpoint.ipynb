{
 "cells": [
  {
   "cell_type": "code",
   "execution_count": 1,
   "metadata": {},
   "outputs": [],
   "source": [
    "import pandas as pd\n",
    "import torch\n",
    "import torch.nn as nn\n",
    "from torch.utils.data import Dataset, DataLoader\n",
    "from model.input_fn import BaseballNNDataset\n",
    "from model.model_fn import BaseballFCN\n",
    "from model.evaluation import test\n",
    "from sklearn import metrics"
   ]
  },
  {
   "cell_type": "code",
   "execution_count": 2,
   "metadata": {},
   "outputs": [],
   "source": [
    "df = pd.read_pickle('data/kaggle/data.pkl')\n",
    "eval_df = pd.read_pickle('data/kaggle/dev.pkl')"
   ]
  },
  {
   "cell_type": "code",
   "execution_count": 3,
   "metadata": {},
   "outputs": [],
   "source": [
    "dset = BaseballNNDataset(eval_df, df)\n",
    "dataloader = DataLoader(dset, 32, shuffle=False, num_workers=1)\n",
    "dataset_size = len(dset)"
   ]
  },
  {
   "cell_type": "code",
   "execution_count": 4,
   "metadata": {},
   "outputs": [],
   "source": [
    "criterion = nn.MSELoss()"
   ]
  },
  {
   "cell_type": "code",
   "execution_count": 5,
   "metadata": {},
   "outputs": [],
   "source": [
    "use_cuda = torch.cuda.is_available()\n",
    "torch.manual_seed(42)\n",
    "device = torch.device(\"cuda\" if use_cuda else \"cpu\")"
   ]
  },
  {
   "cell_type": "code",
   "execution_count": 6,
   "metadata": {},
   "outputs": [],
   "source": [
    "model = BaseballFCN(17).to(device)\n",
    "model.load_state_dict(torch.load(\"models/last1_50epochs_17features.model\"))"
   ]
  },
  {
   "cell_type": "code",
   "execution_count": 7,
   "metadata": {},
   "outputs": [],
   "source": [
    "y_true, y_pred, player_ids, years, test_loss = test(model, criterion, dataloader, dataset_size, device)"
   ]
  },
  {
   "cell_type": "code",
   "execution_count": 8,
   "metadata": {},
   "outputs": [],
   "source": [
    "r2 = metrics.r2_score(y_true, y_pred)"
   ]
  },
  {
   "cell_type": "code",
   "execution_count": 9,
   "metadata": {},
   "outputs": [
    {
     "data": {
      "text/plain": [
       "0.541610412741016"
      ]
     },
     "execution_count": 9,
     "metadata": {},
     "output_type": "execute_result"
    }
   ],
   "source": [
    "r2"
   ]
  },
  {
   "cell_type": "code",
   "execution_count": 12,
   "metadata": {},
   "outputs": [],
   "source": [
    "results_df = pd.DataFrame(\n",
    "    {'playerID': player_ids,\n",
    "     'yearID': years,\n",
    "     'HR': y_true,\n",
    "     'HR_pred': y_pred\n",
    "    })"
   ]
  },
  {
   "cell_type": "code",
   "execution_count": 18,
   "metadata": {},
   "outputs": [],
   "source": [
    "results_df['diff'] = abs(results_df['HR'] - results_df['HR_pred'])"
   ]
  },
  {
   "cell_type": "code",
   "execution_count": 21,
   "metadata": {},
   "outputs": [
    {
     "name": "stdout",
     "output_type": "stream",
     "text": [
      "Worst predictions\n",
      "        HR    HR_pred   playerID  yearID       diff\n",
      "897   58.0  23.115313  howarry01  2005.0  34.884687\n",
      "696   47.0  16.195580  mitchke01  1988.0  30.804420\n",
      "1635  44.0  16.367264  aaronha01  1956.0  27.632736\n",
      "1183  44.0  16.564150  martiti02  1996.0  27.435850\n",
      "985   34.0   7.371183  ramirar01  2000.0  26.628817\n",
      "196   41.0  14.558949  burroje01  1976.0  26.441051\n",
      "69    45.0  19.709736  griffke02  1992.0  25.290264\n",
      "518   26.0   2.280669  bradlph01  1984.0  23.719331\n",
      "991   39.0  15.811973   aloumo01  2003.0  23.188027\n",
      "1277  40.0  17.157639  justida01  1992.0  22.842361\n"
     ]
    }
   ],
   "source": [
    "print(\"Worst predictions\")\n",
    "print(results_df.sort_values(by='diff', ascending=False).head(10))"
   ]
  },
  {
   "cell_type": "code",
   "execution_count": 22,
   "metadata": {},
   "outputs": [
    {
     "name": "stdout",
     "output_type": "stream",
     "text": [
      "Best predictions\n",
      "        HR    HR_pred   playerID  yearID      diff\n",
      "591    4.0   4.001099  reynoha01  1987.0  0.001099\n",
      "1679  11.0  10.997298  knoblch01  1994.0  0.002702\n",
      "384    2.0   2.018364  speiech01  1980.0  0.018364\n",
      "26     6.0   5.978162    leema02  1989.0  0.021838\n",
      "716   11.0  11.028389   ortajo01  1976.0  0.028389\n",
      "96     5.0   4.969152  tolanbo01  1967.0  0.030848\n",
      "705    4.0   4.038111  anderda02  1984.0  0.038111\n",
      "1271   7.0   7.040559  hollato01  2005.0  0.040559\n",
      "146    4.0   4.044740  dalrycl01  1965.0  0.044740\n",
      "176   12.0  12.045493  hintoch01  1965.0  0.045493\n"
     ]
    }
   ],
   "source": [
    "print(\"Best predictions\")\n",
    "print(results_df.sort_values(by='diff', ascending=True).head(10))"
   ]
  },
  {
   "cell_type": "code",
   "execution_count": 23,
   "metadata": {},
   "outputs": [
    {
     "name": "stdout",
     "output_type": "stream",
     "text": [
      "Highest predictions\n",
      "        HR    HR_pred   playerID  yearID       diff\n",
      "822   45.0  42.780067  bondsba01  2003.0   2.219933\n",
      "824   58.0  40.891205  mcgwima01  1996.0  17.108795\n",
      "213   32.0  39.400318  reynoma01  2009.0   7.400318\n",
      "336   33.0  36.726707  soriaal01  2006.0   3.726707\n",
      "567   36.0  36.066280  rodrial01  2003.0   0.066280\n",
      "585   31.0  36.047100  mantlmi01  1958.0   5.047100\n",
      "1013  47.0  35.844208  bagweje01  1999.0  11.155792\n",
      "356   41.0  35.755608  killeha01  1969.0   5.244392\n",
      "950   33.0  35.344017  ramirma02  2001.0   2.344017\n",
      "487   26.0  35.049679  cansejo01  1991.0   9.049679\n"
     ]
    }
   ],
   "source": [
    "print(\"Highest predictions\")\n",
    "print(results_df.sort_values(by='HR_pred', ascending=False).head(10))"
   ]
  },
  {
   "cell_type": "code",
   "execution_count": 24,
   "metadata": {},
   "outputs": [
    {
     "name": "stdout",
     "output_type": "stream",
     "text": [
      "Lowest predictions\n",
      "       HR   HR_pred   playerID  yearID      diff\n",
      "310   0.0  0.299796  tartajo01  1967.0  0.299796\n",
      "1702  1.0  0.569912  terreje01  1976.0  0.430088\n",
      "223   0.0  1.052564  lintzla01  1973.0  1.052564\n",
      "1284  2.0  1.145100  stanlfr01  1981.0  0.854900\n",
      "516   2.0  1.196042    foxne01  1959.0  0.803958\n",
      "1535  0.0  1.291354  russebi01  1985.0  1.291354\n",
      "112   3.0  1.291628  dernibo01  1983.0  1.708372\n",
      "905   0.0  1.379086  bellira01  1988.0  1.379086\n",
      "1313  0.0  1.423287  palmeor01  1997.0  1.423287\n",
      "1062  0.0  1.438715  tynerja01  2000.0  1.438715\n"
     ]
    }
   ],
   "source": [
    "print(\"Lowest predictions\")\n",
    "print(results_df.sort_values(by='HR_pred', ascending=True).head(10))"
   ]
  },
  {
   "cell_type": "code",
   "execution_count": 27,
   "metadata": {},
   "outputs": [],
   "source": [
    "import matplotlib.pyplot as plt\n",
    "import numpy as np"
   ]
  },
  {
   "cell_type": "code",
   "execution_count": 30,
   "metadata": {},
   "outputs": [
    {
     "data": {
      "image/png": "[encoded data removed]",
      "text/plain": [
       "<matplotlib.figure.Figure at 0x1a1fae5470>"
      ]
     },
     "metadata": {},
     "output_type": "display_data"
    }
   ],
   "source": [
    "plt.scatter(y_pred, y_true)\n",
    "\n",
    "plt.xlabel('True HR')\n",
    "plt.ylabel('Predicted HR')\n",
    "plt.title('True HR vs Predicted HR for evaluation set')\n",
    "#plt.(True)\n",
    "#plt.savefig(\"test.png\")\n",
    "plt.show()"
   ]
  },
  {
   "cell_type": "code",
   "execution_count": null,
   "metadata": {},
   "outputs": [],
   "source": []
  }
 ],
 "metadata": {
  "kernelspec": {
   "display_name": "Python 3",
   "language": "python",
   "name": "python3"
  },
  "language_info": {
   "codemirror_mode": {
    "name": "ipython",
    "version": 3
   },
   "file_extension": ".py",
   "mimetype": "text/x-python",
   "name": "python",
   "nbconvert_exporter": "python",
   "pygments_lexer": "ipython3",
   "version": "3.6.4"
  }
 },
 "nbformat": 4,
 "nbformat_minor": 2
}
